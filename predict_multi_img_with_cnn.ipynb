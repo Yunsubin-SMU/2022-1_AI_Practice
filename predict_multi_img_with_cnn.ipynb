{
 "cells": [
  {
   "cell_type": "markdown",
   "id": "3ee5d03b",
   "metadata": {},
   "source": [
    "# 멀티라벨 분류\n",
    "일단 유제품과 면류 2가지 이미지를 분류한다"
   ]
  },
  {
   "cell_type": "code",
   "execution_count": 2,
   "id": "2af2d84c",
   "metadata": {},
   "outputs": [
    {
     "name": "stdout",
     "output_type": "stream",
     "text": [
      "Collecting scikit-learn\n",
      "  Downloading scikit_learn-1.0.2-cp39-cp39-win_amd64.whl (7.2 MB)\n",
      "Collecting joblib>=0.11\n",
      "  Downloading joblib-1.1.0-py2.py3-none-any.whl (306 kB)\n",
      "Collecting threadpoolctl>=2.0.0\n",
      "  Downloading threadpoolctl-3.1.0-py3-none-any.whl (14 kB)\n",
      "Requirement already satisfied: numpy>=1.14.6 in c:\\users\\soobi\\miniconda3\\lib\\site-packages (from scikit-learn) (1.22.3)\n",
      "Requirement already satisfied: scipy>=1.1.0 in c:\\users\\soobi\\miniconda3\\lib\\site-packages (from scikit-learn) (1.7.3)\n",
      "Installing collected packages: threadpoolctl, joblib, scikit-learn\n",
      "Successfully installed joblib-1.1.0 scikit-learn-1.0.2 threadpoolctl-3.1.0\n",
      "Note: you may need to restart the kernel to use updated packages.\n"
     ]
    }
   ],
   "source": [
    "pip install scikit-learn"
   ]
  },
  {
   "cell_type": "code",
   "execution_count": 5,
   "id": "b241b8bd",
   "metadata": {},
   "outputs": [
    {
     "name": "stdout",
     "output_type": "stream",
     "text": [
      "Collecting matplotlib\n",
      "  Downloading matplotlib-3.5.1-cp39-cp39-win_amd64.whl (7.2 MB)\n",
      "Collecting kiwisolver>=1.0.1\n",
      "  Downloading kiwisolver-1.4.2-cp39-cp39-win_amd64.whl (55 kB)\n",
      "Requirement already satisfied: packaging>=20.0 in c:\\users\\soobi\\miniconda3\\lib\\site-packages (from matplotlib) (21.3)\n",
      "Collecting fonttools>=4.22.0\n",
      "  Downloading fonttools-4.33.3-py3-none-any.whl (930 kB)\n",
      "Collecting cycler>=0.10\n",
      "  Using cached cycler-0.11.0-py3-none-any.whl (6.4 kB)\n",
      "Requirement already satisfied: numpy>=1.17 in c:\\users\\soobi\\miniconda3\\lib\\site-packages (from matplotlib) (1.22.3)\n",
      "Requirement already satisfied: python-dateutil>=2.7 in c:\\users\\soobi\\miniconda3\\lib\\site-packages (from matplotlib) (2.8.2)\n",
      "Requirement already satisfied: pillow>=6.2.0 in c:\\users\\soobi\\miniconda3\\lib\\site-packages (from matplotlib) (9.1.0)\n",
      "Requirement already satisfied: pyparsing>=2.2.1 in c:\\users\\soobi\\miniconda3\\lib\\site-packages (from matplotlib) (3.0.7)\n",
      "Requirement already satisfied: six>=1.5 in c:\\users\\soobi\\miniconda3\\lib\\site-packages (from python-dateutil>=2.7->matplotlib) (1.16.0)\n",
      "Installing collected packages: kiwisolver, fonttools, cycler, matplotlib\n",
      "Successfully installed cycler-0.11.0 fonttools-4.33.3 kiwisolver-1.4.2 matplotlib-3.5.1\n"
     ]
    }
   ],
   "source": [
    "!pip install matplotlib"
   ]
  },
  {
   "cell_type": "code",
   "execution_count": 3,
   "id": "76158ba8",
   "metadata": {},
   "outputs": [
    {
     "name": "stdout",
     "output_type": "stream",
     "text": [
      "dairy  파일 길이 :  2027\n",
      "dairy  :  ./dataset/train_data/dairy\\10246_00_m_14.jpg\n",
      "dairy  :  ./dataset/train_data/dairy\\20243_30_s_9.jpg\n",
      "dairy  :  ./dataset/train_data/dairy\\45132_00_s_22.jpg\n",
      "noodle  파일 길이 :  1335\n",
      "noodle  :  ./dataset/train_data/noodle\\10101_00_m_10.jpg\n",
      "noodle  :  ./dataset/train_data/noodle\\60110_60_m_21.jpg\n",
      "ok 3362\n"
     ]
    },
    {
     "name": "stderr",
     "output_type": "stream",
     "text": [
      "C:\\Users\\soobi\\miniconda3\\lib\\site-packages\\numpy\\lib\\npyio.py:528: VisibleDeprecationWarning: Creating an ndarray from ragged nested sequences (which is a list-or-tuple of lists-or-tuples-or ndarrays with different lengths or shapes) is deprecated. If you meant to do this, you must specify 'dtype=object' when creating the ndarray.\n",
      "  arr = np.asanyarray(arr)\n"
     ]
    }
   ],
   "source": [
    "from PIL import Image\n",
    "import os, glob, numpy as np\n",
    "from sklearn.model_selection import train_test_split\n",
    "\n",
    "caltech_dir = \"./dataset/train_data\"\n",
    "categories = [\"dairy\", \"noodle\"]\n",
    "nb_classes = len(categories)\n",
    "\n",
    "image_w = 64\n",
    "image_h = 64\n",
    "\n",
    "pixels = image_h * image_w * 3\n",
    "\n",
    "X = []\n",
    "y = []\n",
    "\n",
    "for idx, cat in enumerate(categories):\n",
    "    \n",
    "    #one-hot 돌리기.\n",
    "    label = [0 for i in range(nb_classes)]\n",
    "    label[idx] = 1\n",
    "\n",
    "    image_dir = caltech_dir + \"/\" + cat\n",
    "    files = glob.glob(image_dir+\"/*.jpg\")\n",
    "    print(cat, \" 파일 길이 : \", len(files))\n",
    "    for i, f in enumerate(files):\n",
    "        img = Image.open(f)\n",
    "        img = img.convert(\"RGB\")\n",
    "        img = img.resize((image_w, image_h))\n",
    "        data = np.asarray(img)\n",
    "\n",
    "        X.append(data)\n",
    "        y.append(label)\n",
    "\n",
    "        if i % 700 == 0:\n",
    "            print(cat, \" : \", f)\n",
    "X = np.array(X)\n",
    "y = np.array(y)\n",
    "#1 0 이면 dairy\n",
    "#0 1 이면 noodle 이런식\n",
    "\n",
    "\n",
    "X_train, X_test, y_train, y_test = train_test_split(X, y)\n",
    "xy = (X_train, X_test, y_train, y_test)\n",
    "np.save(\"./multi_image_data.npy\", xy)\n",
    "\n",
    "print(\"ok\", len(y))"
   ]
  },
  {
   "cell_type": "code",
   "execution_count": 15,
   "id": "1a73b277",
   "metadata": {
    "scrolled": true
   },
   "outputs": [
    {
     "name": "stdout",
     "output_type": "stream",
     "text": [
      "(2521, 64, 64, 3)\n",
      "2521\n"
     ]
    }
   ],
   "source": [
    "import os, glob, numpy as np\n",
    "from keras.models import Sequential\n",
    "from keras.layers import Conv2D, MaxPooling2D, Dense, Flatten, Dropout\n",
    "from keras.callbacks import EarlyStopping, ModelCheckpoint\n",
    "import matplotlib.pyplot as plt\n",
    "import tensorflow.keras.backend as K\n",
    "\n",
    "import tensorflow as tf\n",
    "config = tf.compat.v1.ConfigProto()\n",
    "config.gpu_options.allow_growth = True\n",
    "session = tf.compat.v1.Session(config=config)\n",
    "\n",
    "X_train, X_test, y_train, y_test = np.load('./multi_image_data.npy', allow_pickle=True)\n",
    "print(X_train.shape)\n",
    "print(X_train.shape[0])"
   ]
  },
  {
   "cell_type": "code",
   "execution_count": 16,
   "id": "1d251079",
   "metadata": {},
   "outputs": [],
   "source": [
    "categories = [\"dairy\", \"noodle\"]\n",
    "nb_classes = len(categories)\n",
    "\n",
    "#일반화\n",
    "X_train = X_train.astype(float) / 255\n",
    "X_test = X_test.astype(float) / 255"
   ]
  },
  {
   "cell_type": "code",
   "execution_count": 18,
   "id": "fc37efa9",
   "metadata": {},
   "outputs": [],
   "source": [
    "\n",
    "    model = Sequential()\n",
    "    model.add(Conv2D(32, (3,3), padding=\"same\", input_shape=X_train.shape[1:], activation='relu'))\n",
    "    model.add(MaxPooling2D(pool_size=(2,2)))\n",
    "    model.add(Dropout(0.25))\n",
    "    \n",
    "    model.add(Conv2D(64, (3,3), padding=\"same\", activation='relu'))\n",
    "    model.add(MaxPooling2D(pool_size=(2,2)))\n",
    "    model.add(Dropout(0.25))\n",
    "    \n",
    "    model.add(Flatten())\n",
    "    model.add(Dense(256, activation='relu'))\n",
    "    model.add(Dropout(0.5))\n",
    "    model.add(Dense(nb_classes, activation='softmax'))\n",
    "    model.compile(loss='categorical_crossentropy', optimizer='adam', metrics=['accuracy'])\n",
    "    model_dir = './model'\n",
    "    \n",
    "    if not os.path.exists(model_dir):\n",
    "        os.mkdir(model_dir)\n",
    "    \n",
    "    model_path = model_dir + '/multi_img_classification.model'\n",
    "    checkpoint = ModelCheckpoint(filepath=model_path , monitor='val_loss', verbose=1, save_best_only=True)\n",
    "    early_stopping = EarlyStopping(monitor='val_loss', patience=6)"
   ]
  },
  {
   "cell_type": "code",
   "execution_count": 19,
   "id": "7c60e781",
   "metadata": {},
   "outputs": [
    {
     "name": "stdout",
     "output_type": "stream",
     "text": [
      "Model: \"sequential\"\n",
      "_________________________________________________________________\n",
      " Layer (type)                Output Shape              Param #   \n",
      "=================================================================\n",
      " conv2d (Conv2D)             (None, 64, 64, 32)        896       \n",
      "                                                                 \n",
      " max_pooling2d (MaxPooling2D  (None, 32, 32, 32)       0         \n",
      " )                                                               \n",
      "                                                                 \n",
      " dropout (Dropout)           (None, 32, 32, 32)        0         \n",
      "                                                                 \n",
      " conv2d_1 (Conv2D)           (None, 32, 32, 64)        18496     \n",
      "                                                                 \n",
      " max_pooling2d_1 (MaxPooling  (None, 16, 16, 64)       0         \n",
      " 2D)                                                             \n",
      "                                                                 \n",
      " dropout_1 (Dropout)         (None, 16, 16, 64)        0         \n",
      "                                                                 \n",
      " flatten (Flatten)           (None, 16384)             0         \n",
      "                                                                 \n",
      " dense (Dense)               (None, 256)               4194560   \n",
      "                                                                 \n",
      " dropout_2 (Dropout)         (None, 256)               0         \n",
      "                                                                 \n",
      " dense_1 (Dense)             (None, 2)                 514       \n",
      "                                                                 \n",
      "=================================================================\n",
      "Total params: 4,214,466\n",
      "Trainable params: 4,214,466\n",
      "Non-trainable params: 0\n",
      "_________________________________________________________________\n"
     ]
    }
   ],
   "source": [
    "model.summary()"
   ]
  },
  {
   "cell_type": "code",
   "execution_count": 20,
   "id": "59f660cc",
   "metadata": {},
   "outputs": [
    {
     "name": "stdout",
     "output_type": "stream",
     "text": [
      "Epoch 1/50\n",
      "79/79 [==============================] - ETA: 0s - loss: 0.7790 - accuracy: 0.5871\n",
      "Epoch 1: val_loss improved from inf to 0.61033, saving model to ./model\\multi_img_classification.model\n",
      "INFO:tensorflow:Assets written to: ./model\\multi_img_classification.model\\assets\n",
      "79/79 [==============================] - 6s 76ms/step - loss: 0.7790 - accuracy: 0.5871 - val_loss: 0.6103 - val_accuracy: 0.6718\n",
      "Epoch 2/50\n",
      "78/79 [============================>.] - ETA: 0s - loss: 0.5847 - accuracy: 0.6911\n",
      "Epoch 2: val_loss improved from 0.61033 to 0.56022, saving model to ./model\\multi_img_classification.model\n",
      "INFO:tensorflow:Assets written to: ./model\\multi_img_classification.model\\assets\n",
      "79/79 [==============================] - 6s 78ms/step - loss: 0.5847 - accuracy: 0.6906 - val_loss: 0.5602 - val_accuracy: 0.7004\n",
      "Epoch 3/50\n",
      "79/79 [==============================] - ETA: 0s - loss: 0.5397 - accuracy: 0.7196\n",
      "Epoch 3: val_loss improved from 0.56022 to 0.53548, saving model to ./model\\multi_img_classification.model\n",
      "INFO:tensorflow:Assets written to: ./model\\multi_img_classification.model\\assets\n",
      "79/79 [==============================] - 7s 84ms/step - loss: 0.5397 - accuracy: 0.7196 - val_loss: 0.5355 - val_accuracy: 0.7301\n",
      "Epoch 4/50\n",
      "79/79 [==============================] - ETA: 0s - loss: 0.5143 - accuracy: 0.7410\n",
      "Epoch 4: val_loss improved from 0.53548 to 0.50418, saving model to ./model\\multi_img_classification.model\n",
      "INFO:tensorflow:Assets written to: ./model\\multi_img_classification.model\\assets\n",
      "79/79 [==============================] - 7s 90ms/step - loss: 0.5143 - accuracy: 0.7410 - val_loss: 0.5042 - val_accuracy: 0.7432\n",
      "Epoch 5/50\n",
      "79/79 [==============================] - ETA: 0s - loss: 0.5009 - accuracy: 0.7533\n",
      "Epoch 5: val_loss improved from 0.50418 to 0.48334, saving model to ./model\\multi_img_classification.model\n",
      "INFO:tensorflow:Assets written to: ./model\\multi_img_classification.model\\assets\n",
      "79/79 [==============================] - 7s 93ms/step - loss: 0.5009 - accuracy: 0.7533 - val_loss: 0.4833 - val_accuracy: 0.7705\n",
      "Epoch 6/50\n",
      "79/79 [==============================] - ETA: 0s - loss: 0.4826 - accuracy: 0.7640\n",
      "Epoch 6: val_loss improved from 0.48334 to 0.47687, saving model to ./model\\multi_img_classification.model\n",
      "INFO:tensorflow:Assets written to: ./model\\multi_img_classification.model\\assets\n",
      "79/79 [==============================] - 8s 96ms/step - loss: 0.4826 - accuracy: 0.7640 - val_loss: 0.4769 - val_accuracy: 0.7467\n",
      "Epoch 7/50\n",
      "79/79 [==============================] - ETA: 0s - loss: 0.4575 - accuracy: 0.7739\n",
      "Epoch 7: val_loss improved from 0.47687 to 0.45140, saving model to ./model\\multi_img_classification.model\n",
      "INFO:tensorflow:Assets written to: ./model\\multi_img_classification.model\\assets\n",
      "79/79 [==============================] - 8s 98ms/step - loss: 0.4575 - accuracy: 0.7739 - val_loss: 0.4514 - val_accuracy: 0.7824\n",
      "Epoch 8/50\n",
      "79/79 [==============================] - ETA: 0s - loss: 0.4411 - accuracy: 0.7846\n",
      "Epoch 8: val_loss improved from 0.45140 to 0.42523, saving model to ./model\\multi_img_classification.model\n",
      "INFO:tensorflow:Assets written to: ./model\\multi_img_classification.model\\assets\n",
      "79/79 [==============================] - 8s 96ms/step - loss: 0.4411 - accuracy: 0.7846 - val_loss: 0.4252 - val_accuracy: 0.8050\n",
      "Epoch 9/50\n",
      "79/79 [==============================] - ETA: 0s - loss: 0.4118 - accuracy: 0.8048\n",
      "Epoch 9: val_loss improved from 0.42523 to 0.40497, saving model to ./model\\multi_img_classification.model\n",
      "INFO:tensorflow:Assets written to: ./model\\multi_img_classification.model\\assets\n",
      "79/79 [==============================] - 8s 98ms/step - loss: 0.4118 - accuracy: 0.8048 - val_loss: 0.4050 - val_accuracy: 0.8098\n",
      "Epoch 10/50\n",
      "79/79 [==============================] - ETA: 0s - loss: 0.3918 - accuracy: 0.8124\n",
      "Epoch 10: val_loss improved from 0.40497 to 0.40091, saving model to ./model\\multi_img_classification.model\n",
      "INFO:tensorflow:Assets written to: ./model\\multi_img_classification.model\\assets\n",
      "79/79 [==============================] - 8s 96ms/step - loss: 0.3918 - accuracy: 0.8124 - val_loss: 0.4009 - val_accuracy: 0.8205\n",
      "Epoch 11/50\n",
      "79/79 [==============================] - ETA: 0s - loss: 0.3676 - accuracy: 0.8310\n",
      "Epoch 11: val_loss improved from 0.40091 to 0.40090, saving model to ./model\\multi_img_classification.model\n",
      "INFO:tensorflow:Assets written to: ./model\\multi_img_classification.model\\assets\n",
      "79/79 [==============================] - 8s 100ms/step - loss: 0.3676 - accuracy: 0.8310 - val_loss: 0.4009 - val_accuracy: 0.8002\n",
      "Epoch 12/50\n",
      "79/79 [==============================] - ETA: 0s - loss: 0.3503 - accuracy: 0.8401\n",
      "Epoch 12: val_loss improved from 0.40090 to 0.39128, saving model to ./model\\multi_img_classification.model\n",
      "INFO:tensorflow:Assets written to: ./model\\multi_img_classification.model\\assets\n",
      "79/79 [==============================] - 8s 99ms/step - loss: 0.3503 - accuracy: 0.8401 - val_loss: 0.3913 - val_accuracy: 0.8121\n",
      "Epoch 13/50\n",
      "79/79 [==============================] - ETA: 0s - loss: 0.3274 - accuracy: 0.8497\n",
      "Epoch 13: val_loss did not improve from 0.39128\n",
      "79/79 [==============================] - 7s 90ms/step - loss: 0.3274 - accuracy: 0.8497 - val_loss: 0.3977 - val_accuracy: 0.8300\n",
      "Epoch 14/50\n",
      "79/79 [==============================] - ETA: 0s - loss: 0.3104 - accuracy: 0.8631\n",
      "Epoch 14: val_loss improved from 0.39128 to 0.36833, saving model to ./model\\multi_img_classification.model\n",
      "INFO:tensorflow:Assets written to: ./model\\multi_img_classification.model\\assets\n",
      "79/79 [==============================] - 8s 98ms/step - loss: 0.3104 - accuracy: 0.8631 - val_loss: 0.3683 - val_accuracy: 0.8276\n",
      "Epoch 15/50\n",
      "79/79 [==============================] - ETA: 0s - loss: 0.2751 - accuracy: 0.8862\n",
      "Epoch 15: val_loss improved from 0.36833 to 0.34371, saving model to ./model\\multi_img_classification.model\n",
      "INFO:tensorflow:Assets written to: ./model\\multi_img_classification.model\\assets\n",
      "79/79 [==============================] - 8s 101ms/step - loss: 0.2751 - accuracy: 0.8862 - val_loss: 0.3437 - val_accuracy: 0.8478\n",
      "Epoch 16/50\n",
      "79/79 [==============================] - ETA: 0s - loss: 0.2444 - accuracy: 0.8953\n",
      "Epoch 16: val_loss improved from 0.34371 to 0.33960, saving model to ./model\\multi_img_classification.model\n",
      "INFO:tensorflow:Assets written to: ./model\\multi_img_classification.model\\assets\n",
      "79/79 [==============================] - 10s 123ms/step - loss: 0.2444 - accuracy: 0.8953 - val_loss: 0.3396 - val_accuracy: 0.8621\n",
      "Epoch 17/50\n",
      "79/79 [==============================] - ETA: 0s - loss: 0.2383 - accuracy: 0.8969\n",
      "Epoch 17: val_loss did not improve from 0.33960\n",
      "79/79 [==============================] - 9s 114ms/step - loss: 0.2383 - accuracy: 0.8969 - val_loss: 0.3411 - val_accuracy: 0.8597\n",
      "Epoch 18/50\n",
      "79/79 [==============================] - ETA: 0s - loss: 0.2269 - accuracy: 0.9044\n",
      "Epoch 18: val_loss did not improve from 0.33960\n",
      "79/79 [==============================] - 10s 123ms/step - loss: 0.2269 - accuracy: 0.9044 - val_loss: 0.3595 - val_accuracy: 0.8561\n",
      "Epoch 19/50\n",
      "79/79 [==============================] - ETA: 0s - loss: 0.2069 - accuracy: 0.9159\n",
      "Epoch 19: val_loss improved from 0.33960 to 0.33637, saving model to ./model\\multi_img_classification.model\n",
      "INFO:tensorflow:Assets written to: ./model\\multi_img_classification.model\\assets\n",
      "79/79 [==============================] - 11s 139ms/step - loss: 0.2069 - accuracy: 0.9159 - val_loss: 0.3364 - val_accuracy: 0.8621\n",
      "Epoch 20/50\n",
      "79/79 [==============================] - ETA: 0s - loss: 0.1895 - accuracy: 0.9175\n",
      "Epoch 20: val_loss did not improve from 0.33637\n",
      "79/79 [==============================] - 11s 137ms/step - loss: 0.1895 - accuracy: 0.9175 - val_loss: 0.3603 - val_accuracy: 0.8549\n",
      "Epoch 21/50\n",
      "79/79 [==============================] - ETA: 0s - loss: 0.1747 - accuracy: 0.9298\n",
      "Epoch 21: val_loss improved from 0.33637 to 0.32305, saving model to ./model\\multi_img_classification.model\n",
      "INFO:tensorflow:Assets written to: ./model\\multi_img_classification.model\\assets\n",
      "79/79 [==============================] - 13s 167ms/step - loss: 0.1747 - accuracy: 0.9298 - val_loss: 0.3231 - val_accuracy: 0.8906\n",
      "Epoch 22/50\n",
      "79/79 [==============================] - ETA: 0s - loss: 0.1621 - accuracy: 0.9389\n",
      "Epoch 22: val_loss did not improve from 0.32305\n",
      "79/79 [==============================] - 12s 152ms/step - loss: 0.1621 - accuracy: 0.9389 - val_loss: 0.3531 - val_accuracy: 0.8680\n",
      "Epoch 23/50\n",
      "79/79 [==============================] - ETA: 0s - loss: 0.1412 - accuracy: 0.9468\n",
      "Epoch 23: val_loss improved from 0.32305 to 0.32246, saving model to ./model\\multi_img_classification.model\n",
      "INFO:tensorflow:Assets written to: ./model\\multi_img_classification.model\\assets\n",
      "79/79 [==============================] - 10s 126ms/step - loss: 0.1412 - accuracy: 0.9468 - val_loss: 0.3225 - val_accuracy: 0.8751\n",
      "Epoch 24/50\n",
      "79/79 [==============================] - ETA: 0s - loss: 0.1247 - accuracy: 0.9512\n",
      "Epoch 24: val_loss improved from 0.32246 to 0.29503, saving model to ./model\\multi_img_classification.model\n",
      "INFO:tensorflow:Assets written to: ./model\\multi_img_classification.model\\assets\n",
      "79/79 [==============================] - 9s 112ms/step - loss: 0.1247 - accuracy: 0.9512 - val_loss: 0.2950 - val_accuracy: 0.8859\n",
      "Epoch 25/50\n",
      "79/79 [==============================] - ETA: 0s - loss: 0.1120 - accuracy: 0.9580\n",
      "Epoch 25: val_loss did not improve from 0.29503\n",
      "79/79 [==============================] - 8s 100ms/step - loss: 0.1120 - accuracy: 0.9580 - val_loss: 0.3337 - val_accuracy: 0.8787\n",
      "Epoch 26/50\n",
      "79/79 [==============================] - ETA: 0s - loss: 0.1065 - accuracy: 0.9607\n",
      "Epoch 26: val_loss did not improve from 0.29503\n",
      "79/79 [==============================] - 7s 94ms/step - loss: 0.1065 - accuracy: 0.9607 - val_loss: 0.3753 - val_accuracy: 0.8775\n",
      "Epoch 27/50\n",
      "79/79 [==============================] - ETA: 0s - loss: 0.1159 - accuracy: 0.9552\n",
      "Epoch 27: val_loss did not improve from 0.29503\n",
      "79/79 [==============================] - 7s 90ms/step - loss: 0.1159 - accuracy: 0.9552 - val_loss: 0.3877 - val_accuracy: 0.8704\n",
      "Epoch 28/50\n",
      "79/79 [==============================] - ETA: 0s - loss: 0.0923 - accuracy: 0.9663\n",
      "Epoch 28: val_loss did not improve from 0.29503\n",
      "79/79 [==============================] - 7s 93ms/step - loss: 0.0923 - accuracy: 0.9663 - val_loss: 0.3245 - val_accuracy: 0.8918\n",
      "Epoch 29/50\n",
      "79/79 [==============================] - ETA: 0s - loss: 0.0871 - accuracy: 0.9695\n",
      "Epoch 29: val_loss did not improve from 0.29503\n",
      "79/79 [==============================] - 8s 97ms/step - loss: 0.0871 - accuracy: 0.9695 - val_loss: 0.3251 - val_accuracy: 0.8751\n",
      "Epoch 30/50\n",
      "79/79 [==============================] - ETA: 0s - loss: 0.0801 - accuracy: 0.9702\n",
      "Epoch 30: val_loss did not improve from 0.29503\n",
      "79/79 [==============================] - 8s 103ms/step - loss: 0.0801 - accuracy: 0.9702 - val_loss: 0.3556 - val_accuracy: 0.8740\n"
     ]
    }
   ],
   "source": [
    "history = model.fit(X_train, y_train, batch_size=32, epochs=50, validation_data=(X_test, y_test), callbacks=[checkpoint, early_stopping])"
   ]
  },
  {
   "cell_type": "code",
   "execution_count": 21,
   "id": "163137e8",
   "metadata": {},
   "outputs": [
    {
     "name": "stdout",
     "output_type": "stream",
     "text": [
      "27/27 [==============================] - 0s 16ms/step - loss: 0.3556 - accuracy: 0.8740\n",
      "정확도 : 0.8740\n"
     ]
    }
   ],
   "source": [
    "print(\"정확도 : %.4f\" % (model.evaluate(X_test, y_test)[1]))"
   ]
  },
  {
   "cell_type": "code",
   "execution_count": 22,
   "id": "312f5f3c",
   "metadata": {},
   "outputs": [
    {
     "data": {
      "image/png": "[encoded data removed]",
      "text/plain": [
       "<Figure size 432x288 with 1 Axes>"
      ]
     },
     "metadata": {
      "needs_background": "light"
     },
     "output_type": "display_data"
    }
   ],
   "source": [
    "y_vloss = history.history['val_loss']\n",
    "y_loss = history.history['loss']\n",
    "\n",
    "x_len = np.arange(len(y_loss))\n",
    "\n",
    "plt.plot(x_len, y_vloss, marker='.', c='red', label='val_set_loss')\n",
    "plt.plot(x_len, y_loss, marker='.', c='blue', label='train_set_oss')\n",
    "plt.legend()\n",
    "plt.xlabel('epochs')\n",
    "plt.ylabel('loss')\n",
    "plt.grid()\n",
    "plt.show()"
   ]
  },
  {
   "cell_type": "code",
   "execution_count": 5,
   "id": "757697a5",
   "metadata": {},
   "outputs": [
    {
     "name": "stdout",
     "output_type": "stream",
     "text": [
      "WARNING:tensorflow:5 out of the last 5 calls to <function Model.make_predict_function.<locals>.predict_function at 0x000001E822C5FA60> triggered tf.function retracing. Tracing is expensive and the excessive number of tracings could be due to (1) creating @tf.function repeatedly in a loop, (2) passing tensors with different shapes, (3) passing Python objects instead of tensors. For (1), please define your @tf.function outside of the loop. For (2), @tf.function has experimental_relax_shapes=True option that relaxes argument shapes that can avoid unnecessary retracing. For (3), please refer to https://www.tensorflow.org/guide/function#controlling_retracing and https://www.tensorflow.org/api_docs/python/tf/function for  more details.\n",
      "[1.000 0.000]\n",
      "0\n",
      "해당 10249_00_s_22.jpg이미지는 유제품로 추정됩니다.\n",
      "[1.000 0.000]\n",
      "0\n",
      "해당 15132_00_s_24.jpg이미지는 유제품로 추정됩니다.\n",
      "[1.000 0.000]\n",
      "0\n",
      "해당 15195_00_s_14.jpg이미지는 유제품로 추정됩니다.\n",
      "[1.000 0.000]\n",
      "0\n",
      "해당 20113_0_s_3.jpg이미지는 유제품로 추정됩니다.\n",
      "[0.000 1.000]\n",
      "1\n",
      "해당 20114_30_s_1.jpg이미지는 면류으로 추정됩니다.\n",
      "[0.000 1.000]\n",
      "1\n",
      "해당 25053_30_s_23.jpg이미지는 면류으로 추정됩니다.\n",
      "[0.000 1.000]\n",
      "1\n",
      "해당 25292_00_s_22.jpg이미지는 면류으로 추정됩니다.\n",
      "[1.000 0.000]\n",
      "0\n",
      "해당 25766_30_s_11.jpg이미지는 유제품로 추정됩니다.\n",
      "[0.000 1.000]\n",
      "1\n",
      "해당 40061_0_s_15.jpg이미지는 면류으로 추정됩니다.\n"
     ]
    }
   ],
   "source": [
    "from PIL import Image\n",
    "import os, glob, numpy as np\n",
    "from keras.models import load_model\n",
    "\n",
    "caltech_dir = \"./dataset/test_data\"\n",
    "image_w = 64\n",
    "image_h = 64\n",
    "\n",
    "pixels = image_h * image_w * 3\n",
    "\n",
    "X = []\n",
    "filenames = []\n",
    "files = glob.glob(caltech_dir+\"/*.*\")\n",
    "for i, f in enumerate(files):\n",
    "    img = Image.open(f)\n",
    "    img = img.convert(\"RGB\")\n",
    "    img = img.resize((image_w, image_h))\n",
    "    data = np.asarray(img)\n",
    "    filenames.append(f)\n",
    "    X.append(data)\n",
    "\n",
    "X = np.array(X)\n",
    "model = load_model('./model/multi_img_classification.model')\n",
    "\n",
    "prediction = model.predict(X)\n",
    "np.set_printoptions(formatter={'float': lambda x: \"{0:0.3f}\".format(x)})\n",
    "cnt = 0\n",
    "\n",
    "#이 비교는 그냥 파일들이 있으면 해당 파일과 비교. 카테고리와 함께 비교해서 진행하는 것은 _4 파일.\n",
    "for i in prediction:\n",
    "    pre_ans = i.argmax()  # 예측 레이블\n",
    "    print(i)\n",
    "    print(pre_ans)\n",
    "    pre_ans_str = ''\n",
    "    if pre_ans == 0: pre_ans_str = \"유제품\"\n",
    "    elif pre_ans == 1: pre_ans_str = \"면류\"\n",
    "    #elif pre_ans == 2: pre_ans_str = \"나비\"\n",
    "    #else: pre_ans_str = \"게\"\n",
    "    if i[0] >= 0.8 : print(\"해당 \"+filenames[cnt].split(\"\\\\\")[1]+\"이미지는 \"+pre_ans_str+\"로 추정됩니다.\")\n",
    "    if i[1] >= 0.8: print(\"해당 \"+filenames[cnt].split(\"\\\\\")[1]+\"이미지는 \"+pre_ans_str+\"으로 추정됩니다.\")\n",
    "    #if i[2] >= 0.8: print(\"해당 \"+filenames[cnt].split(\"\\\\\")[1]+\"이미지는 \"+pre_ans_str+\"로 추정됩니다.\")\n",
    "    #if i[3] >= 0.8: print(\"해당 \"+filenames[cnt].split(\"\\\\\")[1]+\"이미지는 \"+pre_ans_str+\"로 추정됩니다.\")\n",
    "    cnt += 1"
   ]
  },
  {
   "cell_type": "code",
   "execution_count": null,
   "id": "3de05b99",
   "metadata": {},
   "outputs": [],
   "source": []
  },
  {
   "cell_type": "code",
   "execution_count": null,
   "id": "cc00a29e",
   "metadata": {},
   "outputs": [],
   "source": []
  }
 ],
 "metadata": {
  "kernelspec": {
   "display_name": "Python 3 (ipykernel)",
   "language": "python",
   "name": "python3"
  },
  "language_info": {
   "codemirror_mode": {
    "name": "ipython",
    "version": 3
   },
   "file_extension": ".py",
   "mimetype": "text/x-python",
   "name": "python",
   "nbconvert_exporter": "python",
   "pygments_lexer": "ipython3",
   "version": "3.9.7"
  }
 },
 "nbformat": 4,
 "nbformat_minor": 5
}
