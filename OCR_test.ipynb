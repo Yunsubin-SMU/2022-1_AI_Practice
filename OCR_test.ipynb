{
 "cells": [
  {
   "cell_type": "code",
   "execution_count": 12,
   "id": "2ef802f3",
   "metadata": {},
   "outputs": [],
   "source": [
    "import io\n",
    "import os"
   ]
  },
  {
   "cell_type": "code",
   "execution_count": 13,
   "id": "7b8c9ef2",
   "metadata": {},
   "outputs": [],
   "source": [
    "# Set environment variable\n",
    "os.environ[\"GOOGLE_APPLICATION_CREDENTIALS\"] =\"ocr-exp-date-0d50df856aa8.json\" \n",
    "\n",
    "# Imports the Google Cloud client library\n",
    "from google.cloud import vision\n",
    "\n",
    "# Instantiates a client\n",
    "client = vision.ImageAnnotatorClient()"
   ]
  },
  {
   "cell_type": "code",
   "execution_count": 52,
   "id": "f30a6ae0",
   "metadata": {},
   "outputs": [
    {
     "name": "stdout",
     "output_type": "stream",
     "text": [
      "2020-02-10\n",
      "2019-06-10\n"
     ]
    }
   ],
   "source": [
    "from datetime import datetime\n",
    "from dateutil.relativedelta import relativedelta\n",
    "\n",
    "'''\n",
    "my_date = datetime(2019,10,10)\n",
    "new_date1 = my_date + relativedelta(months=4)\n",
    "new_date2 = my_date + relativedelta(months=-4)\n",
    "\n",
    "print(str(new_date1.date()))\n",
    "print(str(new_date2.date()))\n",
    "'''"
   ]
  },
  {
   "cell_type": "code",
   "execution_count": 86,
   "id": "dc9970e2",
   "metadata": {},
   "outputs": [
    {
     "name": "stdout",
     "output_type": "stream",
     "text": [
      "2017-01-21 00:00:00\n",
      "유통기한은 2017년 01월 21일입니다.\n",
      "차이: 1 days\n",
      "50% 할인\n"
     ]
    }
   ],
   "source": [
    "# The name of the image file to annotate\n",
    "file_name = os.path.abspath('exp_date.png')\n",
    "\n",
    "\n",
    "with io.open(file_name, 'rb') as image_file:\n",
    "    content = image_file.read()\n",
    "\n",
    "image = vision.Image(content=content)\n",
    "\n",
    "response = client.text_detection(image=image)\n",
    "texts = response.text_annotations\n",
    "\n",
    "text = texts[1]\n",
    "content = text.description\n",
    "#print('\"{}\"'.format(content))\n",
    "\n",
    "'''\n",
    "for text in texts:\n",
    "    content = text.description\n",
    "    #content = content.replace(',','')\n",
    "    print('\"{}\"'.format(content))\n",
    "'''    \n",
    "\n",
    "date = content \n",
    "product_date = datetime.strptime(date, '%Y.%m.%d')\n",
    "print(product_date)\n",
    "\n",
    "# 날짜를 str으로 변환\n",
    "exp_date = product_date.strftime(\"유통기한은 %Y년 %m월 %d일입니다.\") \n",
    "print(exp_date)\n",
    "\n",
    "# 물품 구매 날짜 기준\n",
    "today_date = datetime(2017,1,20)\n",
    "\n",
    "# 유통기한과 구매일 차이 \n",
    "date_diff = product_date - today_date\n",
    "print(\"차이:\", date_diff.days, \"days\")\n",
    "\n",
    "# 며칠 남았는지에 따라 할인 적용\n",
    "if date_diff.days<7:\n",
    "    print(\"50% 할인\")\n",
    "else:\n",
    "    print(\"정가\")\n",
    "\n",
    "if response.error.message:\n",
    "    raise Exception(\n",
    "        '{}\\nFor more info on error messages, check: '\n",
    "        'https://cloud.google.com/apis/design/errors'.format(\n",
    "            response.error.message))"
   ]
  },
  {
   "cell_type": "code",
   "execution_count": null,
   "id": "7420e069",
   "metadata": {},
   "outputs": [],
   "source": []
  }
 ],
 "metadata": {
  "kernelspec": {
   "display_name": "Python 3 (ipykernel)",
   "language": "python",
   "name": "python3"
  },
  "language_info": {
   "codemirror_mode": {
    "name": "ipython",
    "version": 3
   },
   "file_extension": ".py",
   "mimetype": "text/x-python",
   "name": "python",
   "nbconvert_exporter": "python",
   "pygments_lexer": "ipython3",
   "version": "3.9.7"
  }
 },
 "nbformat": 4,
 "nbformat_minor": 5
}
