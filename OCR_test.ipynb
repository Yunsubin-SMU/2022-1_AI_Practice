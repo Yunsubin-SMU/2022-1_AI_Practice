{
 "cells": [
  {
   "cell_type": "code",
   "execution_count": 2,
   "id": "2ef802f3",
   "metadata": {},
   "outputs": [],
   "source": [
    "import io\n",
    "import os"
   ]
  },
  {
   "cell_type": "code",
   "execution_count": 3,
   "id": "7b8c9ef2",
   "metadata": {},
   "outputs": [],
   "source": [
    "# Set environment variable\n",
    "os.environ[\"GOOGLE_APPLICATION_CREDENTIALS\"] = \"ocr-test-project-348015-8cf6c63393d4.json\"\n",
    "\n",
    "# Imports the Google Cloud client library\n",
    "from google.cloud import vision\n",
    "\n",
    "# Instantiates a client\n",
    "client = vision.ImageAnnotatorClient()"
   ]
  },
  {
   "cell_type": "code",
   "execution_count": 13,
   "id": "dc9970e2",
   "metadata": {},
   "outputs": [
    {
     "name": "stdout",
     "output_type": "stream",
     "text": [
      "Texts:\n",
      "\n",
      "\"ITAMIN A\n",
      "GLUTEN FREE\n",
      "FIBER\n",
      "3.\n",
      "NO GMO\n",
      "Ingredients\n",
      "VITAMIN\n",
      "A.\n",
      "A0 %00L\n",
      "GROWN IN\n",
      "VSA\n",
      "\"\n",
      "\n",
      "\"ITAMIN\"\n",
      "\n",
      "\"A\"\n",
      "\n",
      "\"GLUTEN\"\n",
      "\n",
      "\"FREE\"\n",
      "\n",
      "\"FIBER\"\n",
      "\n",
      "\"3.\"\n",
      "\n",
      "\"NO\"\n",
      "\n",
      "\"GMO\"\n",
      "\n",
      "\"Ingredients\"\n",
      "\n",
      "\"VITAMIN\"\n",
      "\n",
      "\"A.\"\n",
      "\n",
      "\"A0\"\n",
      "\n",
      "\"%00L\"\n",
      "\n",
      "\"GROWN\"\n",
      "\n",
      "\"IN\"\n",
      "\n",
      "\"VSA\"\n"
     ]
    }
   ],
   "source": [
    "# The name of the image file to annotate\n",
    "file_name = os.path.abspath('pumpkin.jpg')\n",
    "\n",
    "\n",
    "with io.open(file_name, 'rb') as image_file:\n",
    "    content = image_file.read()\n",
    "\n",
    "image = vision.Image(content=content)\n",
    "\n",
    "response = client.text_detection(image=image)\n",
    "texts = response.text_annotations\n",
    "print('Texts:')\n",
    "\n",
    "\n",
    "response = client.label_detection(image=image)\n",
    "labels = response.label_annotations\n",
    "print('Labels:')\n",
    "\n",
    "\n",
    "for text in texts:\n",
    "    content = text.description\n",
    "    content = content.replace(',','')\n",
    "    print('\\n\"{}\"'.format(content))\n",
    "\n",
    "\n",
    "if response.error.message:\n",
    "    raise Exception(\n",
    "        '{}\\nFor more info on error messages, check: '\n",
    "        'https://cloud.google.com/apis/design/errors'.format(\n",
    "            response.error.message))"
   ]
  },
  {
   "cell_type": "code",
   "execution_count": null,
   "id": "7420e069",
   "metadata": {},
   "outputs": [],
   "source": []
  }
 ],
 "metadata": {
  "kernelspec": {
   "display_name": "Python 3 (ipykernel)",
   "language": "python",
   "name": "python3"
  },
  "language_info": {
   "codemirror_mode": {
    "name": "ipython",
    "version": 3
   },
   "file_extension": ".py",
   "mimetype": "text/x-python",
   "name": "python",
   "nbconvert_exporter": "python",
   "pygments_lexer": "ipython3",
   "version": "3.9.7"
  }
 },
 "nbformat": 4,
 "nbformat_minor": 5
}
